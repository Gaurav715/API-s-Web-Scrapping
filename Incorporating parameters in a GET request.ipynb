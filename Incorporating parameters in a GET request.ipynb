{
 "cells": [
  {
   "cell_type": "markdown",
   "metadata": {},
   "source": [
    "# Pulling data from public APIs (without registration) - GET request"
   ]
  },
  {
   "cell_type": "code",
   "execution_count": 1,
   "metadata": {
    "ExecuteTime": {
     "end_time": "2020-08-13T14:26:44.346201Z",
     "start_time": "2020-08-13T14:26:44.150725Z"
    }
   },
   "outputs": [],
   "source": [
    "# loading the packages\n",
    "# requests provides us with the capabilities of sending an HTTP request to a server\n",
    "import requests"
   ]
  },
  {
   "cell_type": "markdown",
   "metadata": {},
   "source": [
    "## Extracting data on currency exchange rates"
   ]
  },
  {
   "cell_type": "code",
   "execution_count": 2,
   "metadata": {
    "ExecuteTime": {
     "end_time": "2020-08-13T14:26:44.961559Z",
     "start_time": "2020-08-13T14:26:44.957569Z"
    }
   },
   "outputs": [],
   "source": [
    "# We will use an API containing currency exchange rates as published by the European Central Bank\n",
    "# Documentation at https://exchangeratesapi.io"
   ]
  },
  {
   "cell_type": "markdown",
   "metadata": {},
   "source": [
    "### Sending a GET request"
   ]
  },
  {
   "cell_type": "code",
   "execution_count": 3,
   "metadata": {
    "ExecuteTime": {
     "end_time": "2020-08-13T14:26:45.513647Z",
     "start_time": "2020-08-13T14:26:45.508659Z"
    }
   },
   "outputs": [],
   "source": [
    "# Define the base URL\n",
    "# Base URL: the part of the URL common to all requests, not containing the parameters\n",
    "base_url = \"https://api.exchangeratesapi.io/latest\""
   ]
  },
  {
   "cell_type": "code",
   "execution_count": 4,
   "metadata": {
    "ExecuteTime": {
     "end_time": "2020-08-13T14:26:47.819569Z",
     "start_time": "2020-08-13T14:26:47.695882Z"
    }
   },
   "outputs": [],
   "source": [
    "# We can make a GET request to this API endpoint with requests.get\n",
    "response = requests.get(base_url)\n",
    "\n",
    "# This method returns the response from the server\n",
    "# We store this response in a variable for future processing"
   ]
  },
  {
   "cell_type": "markdown",
   "metadata": {},
   "source": [
    "### Investigating the response"
   ]
  },
  {
   "cell_type": "code",
   "execution_count": 5,
   "metadata": {
    "ExecuteTime": {
     "end_time": "2020-08-13T14:26:48.746089Z",
     "start_time": "2020-08-13T14:26:48.740107Z"
    }
   },
   "outputs": [
    {
     "data": {
      "text/plain": [
       "True"
      ]
     },
     "execution_count": 5,
     "metadata": {},
     "output_type": "execute_result"
    }
   ],
   "source": [
    "# Checking if the request went through ok\n",
    "response.ok"
   ]
  },
  {
   "cell_type": "code",
   "execution_count": 6,
   "metadata": {
    "ExecuteTime": {
     "end_time": "2020-08-13T14:26:49.300147Z",
     "start_time": "2020-08-13T14:26:49.294127Z"
    }
   },
   "outputs": [
    {
     "data": {
      "text/plain": [
       "200"
      ]
     },
     "execution_count": 6,
     "metadata": {},
     "output_type": "execute_result"
    }
   ],
   "source": [
    "# Checking the status code of the response\n",
    "response.status_code"
   ]
  },
  {
   "cell_type": "code",
   "execution_count": 7,
   "metadata": {
    "ExecuteTime": {
     "end_time": "2020-08-13T14:26:49.861627Z",
     "start_time": "2020-08-13T14:26:49.855642Z"
    }
   },
   "outputs": [
    {
     "data": {
      "text/plain": [
       "'{\"rates\":{\"CAD\":1.5644,\"HKD\":9.1236,\"ISK\":161.1,\"PHP\":57.631,\"DKK\":7.4472,\"HUF\":345.15,\"CZK\":26.117,\"AUD\":1.6514,\"RON\":4.8356,\"SEK\":10.2513,\"IDR\":17374.0,\"INR\":88.051,\"BRL\":6.3782,\"RUB\":86.3013,\"HRK\":7.4885,\"JPY\":125.92,\"THB\":36.62,\"CHF\":1.0755,\"SGD\":1.6166,\"PLN\":4.4033,\"BGN\":1.9558,\"TRY\":8.6074,\"CNY\":8.1758,\"NOK\":10.5463,\"NZD\":1.7997,\"ZAR\":20.5097,\"USD\":1.1771,\"MXN\":26.3381,\"ILS\":4.0101,\"GBP\":0.90475,\"KRW\":1393.92,\"MYR\":4.9362},\"base\":\"EUR\",\"date\":\"2020-08-12\"}'"
      ]
     },
     "execution_count": 7,
     "metadata": {},
     "output_type": "execute_result"
    }
   ],
   "source": [
    "# Inspecting the content body of the response (as a regular 'string')\n",
    "response.text"
   ]
  },
  {
   "cell_type": "code",
   "execution_count": 8,
   "metadata": {
    "ExecuteTime": {
     "end_time": "2020-08-13T14:26:50.413666Z",
     "start_time": "2020-08-13T14:26:50.408676Z"
    }
   },
   "outputs": [
    {
     "data": {
      "text/plain": [
       "b'{\"rates\":{\"CAD\":1.5644,\"HKD\":9.1236,\"ISK\":161.1,\"PHP\":57.631,\"DKK\":7.4472,\"HUF\":345.15,\"CZK\":26.117,\"AUD\":1.6514,\"RON\":4.8356,\"SEK\":10.2513,\"IDR\":17374.0,\"INR\":88.051,\"BRL\":6.3782,\"RUB\":86.3013,\"HRK\":7.4885,\"JPY\":125.92,\"THB\":36.62,\"CHF\":1.0755,\"SGD\":1.6166,\"PLN\":4.4033,\"BGN\":1.9558,\"TRY\":8.6074,\"CNY\":8.1758,\"NOK\":10.5463,\"NZD\":1.7997,\"ZAR\":20.5097,\"USD\":1.1771,\"MXN\":26.3381,\"ILS\":4.0101,\"GBP\":0.90475,\"KRW\":1393.92,\"MYR\":4.9362},\"base\":\"EUR\",\"date\":\"2020-08-12\"}'"
      ]
     },
     "execution_count": 8,
     "metadata": {},
     "output_type": "execute_result"
    }
   ],
   "source": [
    "# Inspecting the content of the response (in 'bytes' format)\n",
    "response.content"
   ]
  },
  {
   "cell_type": "code",
   "execution_count": 9,
   "metadata": {
    "ExecuteTime": {
     "end_time": "2020-08-13T14:26:50.911989Z",
     "start_time": "2020-08-13T14:26:50.908901Z"
    }
   },
   "outputs": [],
   "source": [
    "# The data is presented in JSON format"
   ]
  },
  {
   "cell_type": "markdown",
   "metadata": {},
   "source": [
    "### Handling the JSON"
   ]
  },
  {
   "cell_type": "code",
   "execution_count": 10,
   "metadata": {
    "ExecuteTime": {
     "end_time": "2020-08-13T14:26:52.009015Z",
     "start_time": "2020-08-13T14:26:52.000038Z"
    }
   },
   "outputs": [
    {
     "data": {
      "text/plain": [
       "{'rates': {'CAD': 1.5644,\n",
       "  'HKD': 9.1236,\n",
       "  'ISK': 161.1,\n",
       "  'PHP': 57.631,\n",
       "  'DKK': 7.4472,\n",
       "  'HUF': 345.15,\n",
       "  'CZK': 26.117,\n",
       "  'AUD': 1.6514,\n",
       "  'RON': 4.8356,\n",
       "  'SEK': 10.2513,\n",
       "  'IDR': 17374.0,\n",
       "  'INR': 88.051,\n",
       "  'BRL': 6.3782,\n",
       "  'RUB': 86.3013,\n",
       "  'HRK': 7.4885,\n",
       "  'JPY': 125.92,\n",
       "  'THB': 36.62,\n",
       "  'CHF': 1.0755,\n",
       "  'SGD': 1.6166,\n",
       "  'PLN': 4.4033,\n",
       "  'BGN': 1.9558,\n",
       "  'TRY': 8.6074,\n",
       "  'CNY': 8.1758,\n",
       "  'NOK': 10.5463,\n",
       "  'NZD': 1.7997,\n",
       "  'ZAR': 20.5097,\n",
       "  'USD': 1.1771,\n",
       "  'MXN': 26.3381,\n",
       "  'ILS': 4.0101,\n",
       "  'GBP': 0.90475,\n",
       "  'KRW': 1393.92,\n",
       "  'MYR': 4.9362},\n",
       " 'base': 'EUR',\n",
       " 'date': '2020-08-12'}"
      ]
     },
     "execution_count": 10,
     "metadata": {},
     "output_type": "execute_result"
    }
   ],
   "source": [
    "# Requests has in-build method to directly convert the response to JSON format\n",
    "response.json()"
   ]
  },
  {
   "cell_type": "code",
   "execution_count": 11,
   "metadata": {
    "ExecuteTime": {
     "end_time": "2020-08-13T14:26:52.553491Z",
     "start_time": "2020-08-13T14:26:52.547338Z"
    }
   },
   "outputs": [
    {
     "data": {
      "text/plain": [
       "dict"
      ]
     },
     "execution_count": 11,
     "metadata": {},
     "output_type": "execute_result"
    }
   ],
   "source": [
    "# In Python, this JSON is stored as a dictionary\n",
    "type(response.json())"
   ]
  },
  {
   "cell_type": "code",
   "execution_count": 12,
   "metadata": {
    "ExecuteTime": {
     "end_time": "2020-08-13T14:26:53.078190Z",
     "start_time": "2020-08-13T14:26:53.075112Z"
    }
   },
   "outputs": [],
   "source": [
    "# A useful library for JSON manipulation and pretty print\n",
    "import json\n",
    "\n",
    "# It has two main methods:\n",
    "# .loads(), which creates a Python dictionary from a JSON format string (just as response.json() does)\n",
    "# .dumps(), which creates a JSON format string out of a Python dictionary "
   ]
  },
  {
   "cell_type": "code",
   "execution_count": 13,
   "metadata": {
    "ExecuteTime": {
     "end_time": "2020-08-13T14:26:53.658073Z",
     "start_time": "2020-08-13T14:26:53.652085Z"
    }
   },
   "outputs": [
    {
     "data": {
      "text/plain": [
       "'{\\n    \"rates\": {\\n        \"CAD\": 1.5644,\\n        \"HKD\": 9.1236,\\n        \"ISK\": 161.1,\\n        \"PHP\": 57.631,\\n        \"DKK\": 7.4472,\\n        \"HUF\": 345.15,\\n        \"CZK\": 26.117,\\n        \"AUD\": 1.6514,\\n        \"RON\": 4.8356,\\n        \"SEK\": 10.2513,\\n        \"IDR\": 17374.0,\\n        \"INR\": 88.051,\\n        \"BRL\": 6.3782,\\n        \"RUB\": 86.3013,\\n        \"HRK\": 7.4885,\\n        \"JPY\": 125.92,\\n        \"THB\": 36.62,\\n        \"CHF\": 1.0755,\\n        \"SGD\": 1.6166,\\n        \"PLN\": 4.4033,\\n        \"BGN\": 1.9558,\\n        \"TRY\": 8.6074,\\n        \"CNY\": 8.1758,\\n        \"NOK\": 10.5463,\\n        \"NZD\": 1.7997,\\n        \"ZAR\": 20.5097,\\n        \"USD\": 1.1771,\\n        \"MXN\": 26.3381,\\n        \"ILS\": 4.0101,\\n        \"GBP\": 0.90475,\\n        \"KRW\": 1393.92,\\n        \"MYR\": 4.9362\\n    },\\n    \"base\": \"EUR\",\\n    \"date\": \"2020-08-12\"\\n}'"
      ]
     },
     "execution_count": 13,
     "metadata": {},
     "output_type": "execute_result"
    }
   ],
   "source": [
    "# .dumps() has options to make the string 'prettier', more readable\n",
    "# We can choose the number of spaces to be used as indentation\n",
    "json.dumps(response.json(), indent=4)"
   ]
  },
  {
   "cell_type": "code",
   "execution_count": 14,
   "metadata": {
    "ExecuteTime": {
     "end_time": "2020-08-13T14:26:54.226771Z",
     "start_time": "2020-08-13T14:26:54.217796Z"
    }
   },
   "outputs": [
    {
     "name": "stdout",
     "output_type": "stream",
     "text": [
      "{\n",
      "    \"rates\": {\n",
      "        \"CAD\": 1.5644,\n",
      "        \"HKD\": 9.1236,\n",
      "        \"ISK\": 161.1,\n",
      "        \"PHP\": 57.631,\n",
      "        \"DKK\": 7.4472,\n",
      "        \"HUF\": 345.15,\n",
      "        \"CZK\": 26.117,\n",
      "        \"AUD\": 1.6514,\n",
      "        \"RON\": 4.8356,\n",
      "        \"SEK\": 10.2513,\n",
      "        \"IDR\": 17374.0,\n",
      "        \"INR\": 88.051,\n",
      "        \"BRL\": 6.3782,\n",
      "        \"RUB\": 86.3013,\n",
      "        \"HRK\": 7.4885,\n",
      "        \"JPY\": 125.92,\n",
      "        \"THB\": 36.62,\n",
      "        \"CHF\": 1.0755,\n",
      "        \"SGD\": 1.6166,\n",
      "        \"PLN\": 4.4033,\n",
      "        \"BGN\": 1.9558,\n",
      "        \"TRY\": 8.6074,\n",
      "        \"CNY\": 8.1758,\n",
      "        \"NOK\": 10.5463,\n",
      "        \"NZD\": 1.7997,\n",
      "        \"ZAR\": 20.5097,\n",
      "        \"USD\": 1.1771,\n",
      "        \"MXN\": 26.3381,\n",
      "        \"ILS\": 4.0101,\n",
      "        \"GBP\": 0.90475,\n",
      "        \"KRW\": 1393.92,\n",
      "        \"MYR\": 4.9362\n",
      "    },\n",
      "    \"base\": \"EUR\",\n",
      "    \"date\": \"2020-08-12\"\n",
      "}\n"
     ]
    }
   ],
   "source": [
    "# In order to visualize these changes, we need to print the string\n",
    "print(json.dumps(response.json(), indent=4))"
   ]
  },
  {
   "cell_type": "code",
   "execution_count": 15,
   "metadata": {
    "ExecuteTime": {
     "end_time": "2020-08-13T14:26:54.790308Z",
     "start_time": "2020-08-13T14:26:54.783326Z"
    }
   },
   "outputs": [
    {
     "data": {
      "text/plain": [
       "dict_keys(['rates', 'base', 'date'])"
      ]
     },
     "execution_count": 15,
     "metadata": {},
     "output_type": "execute_result"
    }
   ],
   "source": [
    "# It contains 3 keys; the value for the 'rates' key is another dictionary\n",
    "response.json().keys()"
   ]
  },
  {
   "cell_type": "markdown",
   "metadata": {},
   "source": [
    "### Incorporating parameters in the GET request"
   ]
  },
  {
   "cell_type": "code",
   "execution_count": 16,
   "metadata": {
    "ExecuteTime": {
     "end_time": "2020-08-13T14:26:56.099920Z",
     "start_time": "2020-08-13T14:26:56.093938Z"
    }
   },
   "outputs": [
    {
     "data": {
      "text/plain": [
       "'https://api.exchangeratesapi.io/latest?symbols=USD,GBP'"
      ]
     },
     "execution_count": 16,
     "metadata": {},
     "output_type": "execute_result"
    }
   ],
   "source": [
    "# Request parameters are added to the URL after a question mark '?'\n",
    "# In this case, we request for the exchange rates of the US Dollar (USD) and Pound Sterling (GBP) only\n",
    "param_url = base_url + \"?symbols=USD,GBP\"\n",
    "param_url"
   ]
  },
  {
   "cell_type": "code",
   "execution_count": 17,
   "metadata": {
    "ExecuteTime": {
     "end_time": "2020-08-13T14:26:56.834512Z",
     "start_time": "2020-08-13T14:26:56.718803Z"
    }
   },
   "outputs": [
    {
     "data": {
      "text/plain": [
       "200"
      ]
     },
     "execution_count": 17,
     "metadata": {},
     "output_type": "execute_result"
    }
   ],
   "source": [
    "# Making a request to the server with the new URL, containing the parameters\n",
    "response = requests.get(param_url)\n",
    "response.status_code"
   ]
  },
  {
   "cell_type": "code",
   "execution_count": 18,
   "metadata": {
    "ExecuteTime": {
     "end_time": "2020-08-13T14:26:57.282315Z",
     "start_time": "2020-08-13T14:26:57.275332Z"
    }
   },
   "outputs": [
    {
     "data": {
      "text/plain": [
       "{'rates': {'USD': 1.1771, 'GBP': 0.90475}, 'base': 'EUR', 'date': '2020-08-12'}"
      ]
     },
     "execution_count": 18,
     "metadata": {},
     "output_type": "execute_result"
    }
   ],
   "source": [
    "# Saving the response data\n",
    "data = response.json()\n",
    "data"
   ]
  },
  {
   "cell_type": "code",
   "execution_count": 19,
   "metadata": {
    "ExecuteTime": {
     "end_time": "2020-08-13T14:26:57.902231Z",
     "start_time": "2020-08-13T14:26:57.896248Z"
    }
   },
   "outputs": [
    {
     "data": {
      "text/plain": [
       "'EUR'"
      ]
     },
     "execution_count": 19,
     "metadata": {},
     "output_type": "execute_result"
    }
   ],
   "source": [
    "# 'data' is a dictionary\n",
    "data['base']"
   ]
  },
  {
   "cell_type": "code",
   "execution_count": 20,
   "metadata": {
    "ExecuteTime": {
     "end_time": "2020-08-13T14:26:58.874639Z",
     "start_time": "2020-08-13T14:26:58.868655Z"
    }
   },
   "outputs": [
    {
     "data": {
      "text/plain": [
       "'2020-08-12'"
      ]
     },
     "execution_count": 20,
     "metadata": {},
     "output_type": "execute_result"
    }
   ],
   "source": [
    "data['date']"
   ]
  },
  {
   "cell_type": "code",
   "execution_count": 21,
   "metadata": {
    "ExecuteTime": {
     "end_time": "2020-08-13T14:26:59.416758Z",
     "start_time": "2020-08-13T14:26:59.410774Z"
    }
   },
   "outputs": [
    {
     "data": {
      "text/plain": [
       "{'USD': 1.1771, 'GBP': 0.90475}"
      ]
     },
     "execution_count": 21,
     "metadata": {},
     "output_type": "execute_result"
    }
   ],
   "source": [
    "data['rates']"
   ]
  },
  {
   "cell_type": "code",
   "execution_count": 22,
   "metadata": {
    "ExecuteTime": {
     "end_time": "2020-08-13T14:27:00.012370Z",
     "start_time": "2020-08-13T14:27:00.008205Z"
    }
   },
   "outputs": [],
   "source": [
    "# As per the documentation of this API, we can change the base with the parameter 'base'\n",
    "param_url = base_url + \"?symbols=GBP&base=USD\""
   ]
  },
  {
   "cell_type": "code",
   "execution_count": 23,
   "metadata": {
    "ExecuteTime": {
     "end_time": "2020-08-13T14:27:01.631939Z",
     "start_time": "2020-08-13T14:27:01.404526Z"
    }
   },
   "outputs": [
    {
     "data": {
      "text/plain": [
       "{'rates': {'GBP': 0.7686262849}, 'base': 'USD', 'date': '2020-08-12'}"
      ]
     },
     "execution_count": 23,
     "metadata": {},
     "output_type": "execute_result"
    }
   ],
   "source": [
    "# Sending a request and saving the response JSON, all at once\n",
    "data = requests.get(param_url).json()\n",
    "data"
   ]
  },
  {
   "cell_type": "code",
   "execution_count": 24,
   "metadata": {
    "ExecuteTime": {
     "end_time": "2020-08-13T14:27:02.534546Z",
     "start_time": "2020-08-13T14:27:02.529562Z"
    }
   },
   "outputs": [
    {
     "data": {
      "text/plain": [
       "0.7686262849"
      ]
     },
     "execution_count": 24,
     "metadata": {},
     "output_type": "execute_result"
    }
   ],
   "source": [
    "usd_to_gbp = data['rates']['GBP']\n",
    "usd_to_gbp"
   ]
  },
  {
   "cell_type": "code",
   "execution_count": null,
   "metadata": {},
   "outputs": [],
   "source": []
  }
 ],
 "metadata": {
  "kernelspec": {
   "display_name": "Python 3",
   "language": "python",
   "name": "python3"
  },
  "language_info": {
   "codemirror_mode": {
    "name": "ipython",
    "version": 3
   },
   "file_extension": ".py",
   "mimetype": "text/x-python",
   "name": "python",
   "nbconvert_exporter": "python",
   "pygments_lexer": "ipython3",
   "version": "3.8.3"
  }
 },
 "nbformat": 4,
 "nbformat_minor": 2
}
