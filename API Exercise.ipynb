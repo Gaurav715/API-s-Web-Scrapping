{
 "cells": [
  {
   "cell_type": "code",
   "execution_count": 1,
   "metadata": {
    "ExecuteTime": {
     "end_time": "2020-08-13T14:52:51.125006Z",
     "start_time": "2020-08-13T14:52:50.910031Z"
    }
   },
   "outputs": [],
   "source": [
    "import requests"
   ]
  },
  {
   "cell_type": "code",
   "execution_count": 2,
   "metadata": {
    "ExecuteTime": {
     "end_time": "2020-08-13T14:53:12.449364Z",
     "start_time": "2020-08-13T14:53:12.444380Z"
    }
   },
   "outputs": [],
   "source": [
    "base_url = \"https://sv443.net/jokeapi/v2/joke/Any\""
   ]
  },
  {
   "cell_type": "code",
   "execution_count": 3,
   "metadata": {
    "ExecuteTime": {
     "end_time": "2020-08-13T14:53:21.044405Z",
     "start_time": "2020-08-13T14:53:20.790083Z"
    }
   },
   "outputs": [],
   "source": [
    "response = requests.get(base_url)"
   ]
  },
  {
   "cell_type": "code",
   "execution_count": 4,
   "metadata": {
    "ExecuteTime": {
     "end_time": "2020-08-13T14:53:27.422579Z",
     "start_time": "2020-08-13T14:53:27.415597Z"
    }
   },
   "outputs": [
    {
     "data": {
      "text/plain": [
       "200"
      ]
     },
     "execution_count": 4,
     "metadata": {},
     "output_type": "execute_result"
    }
   ],
   "source": [
    "response.status_code"
   ]
  },
  {
   "cell_type": "code",
   "execution_count": 5,
   "metadata": {
    "ExecuteTime": {
     "end_time": "2020-08-13T14:53:34.907811Z",
     "start_time": "2020-08-13T14:53:34.901827Z"
    }
   },
   "outputs": [
    {
     "data": {
      "text/plain": [
       "'{\\n    \"error\": false,\\n    \"category\": \"Pun\",\\n    \"type\": \"twopart\",\\n    \"setup\": \"The gas Argon walks into a bar.\\\\nThe barkeeper says \\\\\"What would you like to drink?\\\\\"\",\\n    \"delivery\": \"But Argon doesn\\'t react.\",\\n    \"flags\": {\\n        \"nsfw\": false,\\n        \"religious\": false,\\n        \"political\": false,\\n        \"racist\": false,\\n        \"sexist\": false\\n    },\\n    \"id\": 150,\\n    \"lang\": \"en\"\\n}'"
      ]
     },
     "execution_count": 5,
     "metadata": {},
     "output_type": "execute_result"
    }
   ],
   "source": [
    "response.text"
   ]
  },
  {
   "cell_type": "code",
   "execution_count": 6,
   "metadata": {
    "ExecuteTime": {
     "end_time": "2020-08-13T14:53:42.443529Z",
     "start_time": "2020-08-13T14:53:42.436550Z"
    }
   },
   "outputs": [
    {
     "data": {
      "text/plain": [
       "b'{\\n    \"error\": false,\\n    \"category\": \"Pun\",\\n    \"type\": \"twopart\",\\n    \"setup\": \"The gas Argon walks into a bar.\\\\nThe barkeeper says \\\\\"What would you like to drink?\\\\\"\",\\n    \"delivery\": \"But Argon doesn\\'t react.\",\\n    \"flags\": {\\n        \"nsfw\": false,\\n        \"religious\": false,\\n        \"political\": false,\\n        \"racist\": false,\\n        \"sexist\": false\\n    },\\n    \"id\": 150,\\n    \"lang\": \"en\"\\n}'"
      ]
     },
     "execution_count": 6,
     "metadata": {},
     "output_type": "execute_result"
    }
   ],
   "source": [
    "response.content"
   ]
  },
  {
   "cell_type": "code",
   "execution_count": 7,
   "metadata": {
    "ExecuteTime": {
     "end_time": "2020-08-13T14:53:52.339154Z",
     "start_time": "2020-08-13T14:53:52.332173Z"
    }
   },
   "outputs": [
    {
     "data": {
      "text/plain": [
       "{'error': False,\n",
       " 'category': 'Pun',\n",
       " 'type': 'twopart',\n",
       " 'setup': 'The gas Argon walks into a bar.\\nThe barkeeper says \"What would you like to drink?\"',\n",
       " 'delivery': \"But Argon doesn't react.\",\n",
       " 'flags': {'nsfw': False,\n",
       "  'religious': False,\n",
       "  'political': False,\n",
       "  'racist': False,\n",
       "  'sexist': False},\n",
       " 'id': 150,\n",
       " 'lang': 'en'}"
      ]
     },
     "execution_count": 7,
     "metadata": {},
     "output_type": "execute_result"
    }
   ],
   "source": [
    "response.json()"
   ]
  },
  {
   "cell_type": "code",
   "execution_count": 8,
   "metadata": {
    "ExecuteTime": {
     "end_time": "2020-08-13T14:54:17.623978Z",
     "start_time": "2020-08-13T14:54:17.615001Z"
    }
   },
   "outputs": [
    {
     "data": {
      "text/plain": [
       "'{\\n    \"error\": false,\\n    \"category\": \"Pun\",\\n    \"type\": \"twopart\",\\n    \"setup\": \"The gas Argon walks into a bar.\\\\nThe barkeeper says \\\\\"What would you like to drink?\\\\\"\",\\n    \"delivery\": \"But Argon doesn\\'t react.\",\\n    \"flags\": {\\n        \"nsfw\": false,\\n        \"religious\": false,\\n        \"political\": false,\\n        \"racist\": false,\\n        \"sexist\": false\\n    },\\n    \"id\": 150,\\n    \"lang\": \"en\"\\n}'"
      ]
     },
     "execution_count": 8,
     "metadata": {},
     "output_type": "execute_result"
    }
   ],
   "source": [
    "import json\n",
    "json.dumps(response.json(), indent=4)"
   ]
  },
  {
   "cell_type": "code",
   "execution_count": 9,
   "metadata": {
    "ExecuteTime": {
     "end_time": "2020-08-13T14:54:28.288157Z",
     "start_time": "2020-08-13T14:54:28.279023Z"
    }
   },
   "outputs": [
    {
     "name": "stdout",
     "output_type": "stream",
     "text": [
      "{\n",
      "    \"error\": false,\n",
      "    \"category\": \"Pun\",\n",
      "    \"type\": \"twopart\",\n",
      "    \"setup\": \"The gas Argon walks into a bar.\\nThe barkeeper says \\\"What would you like to drink?\\\"\",\n",
      "    \"delivery\": \"But Argon doesn't react.\",\n",
      "    \"flags\": {\n",
      "        \"nsfw\": false,\n",
      "        \"religious\": false,\n",
      "        \"political\": false,\n",
      "        \"racist\": false,\n",
      "        \"sexist\": false\n",
      "    },\n",
      "    \"id\": 150,\n",
      "    \"lang\": \"en\"\n",
      "}\n"
     ]
    }
   ],
   "source": [
    "# In order to visualize these changes, we need to print the string\n",
    "print(json.dumps(response.json(), indent=4))"
   ]
  },
  {
   "cell_type": "code",
   "execution_count": 10,
   "metadata": {
    "ExecuteTime": {
     "end_time": "2020-08-13T14:54:44.117255Z",
     "start_time": "2020-08-13T14:54:44.111269Z"
    }
   },
   "outputs": [
    {
     "data": {
      "text/plain": [
       "dict_keys(['error', 'category', 'type', 'setup', 'delivery', 'flags', 'id', 'lang'])"
      ]
     },
     "execution_count": 10,
     "metadata": {},
     "output_type": "execute_result"
    }
   ],
   "source": [
    "response.json().keys()"
   ]
  },
  {
   "cell_type": "code",
   "execution_count": 11,
   "metadata": {
    "ExecuteTime": {
     "end_time": "2020-08-13T14:56:42.827744Z",
     "start_time": "2020-08-13T14:56:42.821762Z"
    }
   },
   "outputs": [
    {
     "data": {
      "text/plain": [
       "'https://sv443.net/jokeapi/v2/joke/Any?key1=foo&key2=bar&key3=baz'"
      ]
     },
     "execution_count": 11,
     "metadata": {},
     "output_type": "execute_result"
    }
   ],
   "source": [
    "# Request parameters are added to the URL after a question mark '?'\n",
    "# In this case, we request for the exchange rates of the US Dollar (USD) and Pound Sterling (GBP) only\n",
    "param_url = base_url + \"?key1=foo&key2=bar&key3=baz\"\n",
    "param_url"
   ]
  },
  {
   "cell_type": "code",
   "execution_count": 12,
   "metadata": {
    "ExecuteTime": {
     "end_time": "2020-08-13T14:56:50.228844Z",
     "start_time": "2020-08-13T14:56:49.938621Z"
    }
   },
   "outputs": [
    {
     "data": {
      "text/plain": [
       "200"
      ]
     },
     "execution_count": 12,
     "metadata": {},
     "output_type": "execute_result"
    }
   ],
   "source": [
    "response = requests.get(param_url)\n",
    "response.status_code"
   ]
  },
  {
   "cell_type": "code",
   "execution_count": 13,
   "metadata": {
    "ExecuteTime": {
     "end_time": "2020-08-13T14:56:58.121791Z",
     "start_time": "2020-08-13T14:56:58.114810Z"
    }
   },
   "outputs": [
    {
     "data": {
      "text/plain": [
       "{'error': False,\n",
       " 'category': 'Programming',\n",
       " 'type': 'single',\n",
       " 'joke': 'The glass is neither half-full nor half-empty, the glass is twice as big as it needs to be.',\n",
       " 'flags': {'nsfw': False,\n",
       "  'religious': False,\n",
       "  'political': False,\n",
       "  'racist': False,\n",
       "  'sexist': False},\n",
       " 'id': 23,\n",
       " 'lang': 'en'}"
      ]
     },
     "execution_count": 13,
     "metadata": {},
     "output_type": "execute_result"
    }
   ],
   "source": [
    "data = response.json()\n",
    "data"
   ]
  },
  {
   "cell_type": "code",
   "execution_count": 17,
   "metadata": {
    "ExecuteTime": {
     "end_time": "2020-08-13T14:58:21.827405Z",
     "start_time": "2020-08-13T14:58:21.821905Z"
    }
   },
   "outputs": [
    {
     "data": {
      "text/plain": [
       "'The glass is neither half-full nor half-empty, the glass is twice as big as it needs to be.'"
      ]
     },
     "execution_count": 17,
     "metadata": {},
     "output_type": "execute_result"
    }
   ],
   "source": [
    "# 'data' is a dictionary\n",
    "data['joke']"
   ]
  },
  {
   "cell_type": "code",
   "execution_count": 19,
   "metadata": {
    "ExecuteTime": {
     "end_time": "2020-08-13T14:59:16.367749Z",
     "start_time": "2020-08-13T14:59:16.361761Z"
    }
   },
   "outputs": [
    {
     "data": {
      "text/plain": [
       "'https://sv443.net/jokeapi/v2/joke/Any?blacklistFlags=flag1[,flag2,...]'"
      ]
     },
     "execution_count": 19,
     "metadata": {},
     "output_type": "execute_result"
    }
   ],
   "source": [
    "param_url1 = base_url + \"?blacklistFlags=flag1[,flag2,...]\"\n",
    "param_url1"
   ]
  },
  {
   "cell_type": "code",
   "execution_count": 20,
   "metadata": {
    "ExecuteTime": {
     "end_time": "2020-08-13T14:59:24.179987Z",
     "start_time": "2020-08-13T14:59:23.918684Z"
    }
   },
   "outputs": [
    {
     "data": {
      "text/plain": [
       "200"
      ]
     },
     "execution_count": 20,
     "metadata": {},
     "output_type": "execute_result"
    }
   ],
   "source": [
    "response = requests.get(param_url)\n",
    "response.status_code"
   ]
  },
  {
   "cell_type": "code",
   "execution_count": 21,
   "metadata": {
    "ExecuteTime": {
     "end_time": "2020-08-13T14:59:33.269589Z",
     "start_time": "2020-08-13T14:59:33.263080Z"
    }
   },
   "outputs": [
    {
     "data": {
      "text/plain": [
       "{'error': False,\n",
       " 'category': 'Pun',\n",
       " 'type': 'twopart',\n",
       " 'setup': 'Why is crucified Jesus always depicted with six-pack abs?',\n",
       " 'delivery': 'He did CrossFit.',\n",
       " 'flags': {'nsfw': False,\n",
       "  'religious': True,\n",
       "  'political': False,\n",
       "  'racist': False,\n",
       "  'sexist': False},\n",
       " 'id': 61,\n",
       " 'lang': 'en'}"
      ]
     },
     "execution_count": 21,
     "metadata": {},
     "output_type": "execute_result"
    }
   ],
   "source": [
    "data = response.json()\n",
    "data"
   ]
  },
  {
   "cell_type": "code",
   "execution_count": null,
   "metadata": {},
   "outputs": [],
   "source": []
  }
 ],
 "metadata": {
  "kernelspec": {
   "display_name": "Python 3",
   "language": "python",
   "name": "python3"
  },
  "language_info": {
   "codemirror_mode": {
    "name": "ipython",
    "version": 3
   },
   "file_extension": ".py",
   "mimetype": "text/x-python",
   "name": "python",
   "nbconvert_exporter": "python",
   "pygments_lexer": "ipython3",
   "version": "3.8.3"
  }
 },
 "nbformat": 4,
 "nbformat_minor": 4
}
