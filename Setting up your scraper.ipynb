{
 "cells": [
  {
   "cell_type": "markdown",
   "metadata": {},
   "source": [
    "# Set-up"
   ]
  },
  {
   "cell_type": "code",
   "execution_count": 1,
   "metadata": {
    "ExecuteTime": {
     "end_time": "2020-08-15T06:11:26.474079Z",
     "start_time": "2020-08-15T06:11:26.077940Z"
    }
   },
   "outputs": [],
   "source": [
    "# load packages\n",
    "import requests\n",
    "from bs4 import BeautifulSoup"
   ]
  },
  {
   "cell_type": "code",
   "execution_count": 2,
   "metadata": {
    "ExecuteTime": {
     "end_time": "2020-08-15T06:11:27.125147Z",
     "start_time": "2020-08-15T06:11:27.121158Z"
    }
   },
   "outputs": [],
   "source": [
    "# Define the URL of the site\n",
    "base_site = \"https://editorial.rottentomatoes.com/guide/140-essential-action-movies-to-watch-now/2/\""
   ]
  },
  {
   "cell_type": "code",
   "execution_count": 3,
   "metadata": {
    "ExecuteTime": {
     "end_time": "2020-08-15T06:11:38.791023Z",
     "start_time": "2020-08-15T06:11:27.803334Z"
    }
   },
   "outputs": [
    {
     "data": {
      "text/plain": [
       "200"
      ]
     },
     "execution_count": 3,
     "metadata": {},
     "output_type": "execute_result"
    }
   ],
   "source": [
    "# sending a request to the webpage\n",
    "response = requests.get(base_site)\n",
    "response.status_code"
   ]
  },
  {
   "cell_type": "code",
   "execution_count": 4,
   "metadata": {
    "ExecuteTime": {
     "end_time": "2020-08-15T06:11:38.797007Z",
     "start_time": "2020-08-15T06:11:38.793018Z"
    }
   },
   "outputs": [],
   "source": [
    "# get the HTML from the webpage\n",
    "html = response.content"
   ]
  },
  {
   "cell_type": "markdown",
   "metadata": {},
   "source": [
    "## Choosing a parser"
   ]
  },
  {
   "cell_type": "markdown",
   "metadata": {},
   "source": [
    "### html.parser"
   ]
  },
  {
   "cell_type": "code",
   "execution_count": 5,
   "metadata": {
    "ExecuteTime": {
     "end_time": "2020-08-15T06:11:39.258811Z",
     "start_time": "2020-08-15T06:11:38.800000Z"
    }
   },
   "outputs": [],
   "source": [
    "# convert the HTML to a Beautiful Soup object\n",
    "soup = BeautifulSoup(html, 'html.parser')"
   ]
  },
  {
   "cell_type": "code",
   "execution_count": 6,
   "metadata": {
    "ExecuteTime": {
     "end_time": "2020-08-15T06:11:39.456281Z",
     "start_time": "2020-08-15T06:11:39.260804Z"
    }
   },
   "outputs": [],
   "source": [
    "# Exporting the HTML to a file\n",
    "with open('Rotten_tomatoes_page_2_HTML_Parser.html', 'wb') as file:\n",
    "    file.write(soup.prettify('utf-8'))"
   ]
  },
  {
   "cell_type": "code",
   "execution_count": 7,
   "metadata": {
    "ExecuteTime": {
     "end_time": "2020-08-15T06:11:39.462263Z",
     "start_time": "2020-08-15T06:11:39.458275Z"
    }
   },
   "outputs": [],
   "source": [
    "# When inspecting the file we see that HTML element is closed at the begining -- it parsed incorrectly!\n",
    "# Let's check another parser"
   ]
  },
  {
   "cell_type": "markdown",
   "metadata": {},
   "source": [
    "### lxml"
   ]
  },
  {
   "cell_type": "code",
   "execution_count": 8,
   "metadata": {
    "ExecuteTime": {
     "end_time": "2020-08-15T06:11:39.882187Z",
     "start_time": "2020-08-15T06:11:39.465257Z"
    }
   },
   "outputs": [],
   "source": [
    "# convert the HTML to a BeatifulSoup object\n",
    "soup = BeautifulSoup(html, 'lxml')"
   ]
  },
  {
   "cell_type": "code",
   "execution_count": 9,
   "metadata": {
    "ExecuteTime": {
     "end_time": "2020-08-15T06:11:40.153461Z",
     "start_time": "2020-08-15T06:11:39.885178Z"
    }
   },
   "outputs": [],
   "source": [
    "# Exporting the HTML to a file\n",
    "with open('Rotten_tomatoes_page_2_LXML_Parser.html', 'wb') as file:\n",
    "    file.write(soup.prettify('utf-8'))"
   ]
  },
  {
   "cell_type": "code",
   "execution_count": 10,
   "metadata": {
    "ExecuteTime": {
     "end_time": "2020-08-15T06:11:40.161439Z",
     "start_time": "2020-08-15T06:11:40.156452Z"
    }
   },
   "outputs": [],
   "source": [
    "# By first accounts of inspecting the file everything seems fine"
   ]
  },
  {
   "cell_type": "markdown",
   "metadata": {},
   "source": [
    "### A word of caution"
   ]
  },
  {
   "cell_type": "code",
   "execution_count": 11,
   "metadata": {
    "ExecuteTime": {
     "end_time": "2020-08-15T06:11:41.815195Z",
     "start_time": "2020-08-15T06:11:41.812131Z"
    }
   },
   "outputs": [],
   "source": [
    "# Beautiful Soup ranks the lxml parser as the best one.\n",
    "\n",
    "# If a parser is not explicitly stated in the Beautiful Soup constructor,\n",
    "# the best one available on the current machine is chosen.\n",
    "\n",
    "# This means that the same piece of code can give different results on different computers."
   ]
  },
  {
   "cell_type": "code",
   "execution_count": null,
   "metadata": {},
   "outputs": [],
   "source": []
  }
 ],
 "metadata": {
  "kernelspec": {
   "display_name": "Python 3",
   "language": "python",
   "name": "python3"
  },
  "language_info": {
   "codemirror_mode": {
    "name": "ipython",
    "version": 3
   },
   "file_extension": ".py",
   "mimetype": "text/x-python",
   "name": "python",
   "nbconvert_exporter": "python",
   "pygments_lexer": "ipython3",
   "version": "3.8.3"
  }
 },
 "nbformat": 4,
 "nbformat_minor": 2
}
