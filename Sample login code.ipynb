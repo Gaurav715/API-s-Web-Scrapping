{
 "cells": [
  {
   "cell_type": "code",
   "execution_count": 1,
   "metadata": {
    "ExecuteTime": {
     "end_time": "2020-08-15T07:20:38.303757Z",
     "start_time": "2020-08-15T07:20:38.107726Z"
    }
   },
   "outputs": [],
   "source": [
    "import requests"
   ]
  },
  {
   "cell_type": "code",
   "execution_count": 2,
   "metadata": {
    "ExecuteTime": {
     "end_time": "2020-08-15T07:20:38.575340Z",
     "start_time": "2020-08-15T07:20:38.572241Z"
    }
   },
   "outputs": [],
   "source": [
    "# URL of the POST request - need to inspect the HTML or use devtools to obtain\n",
    "url = \"target_url_of_post_request\""
   ]
  },
  {
   "cell_type": "code",
   "execution_count": 3,
   "metadata": {
    "ExecuteTime": {
     "end_time": "2020-08-15T07:20:39.699818Z",
     "start_time": "2020-08-15T07:20:39.695483Z"
    }
   },
   "outputs": [],
   "source": [
    "# Define parameters sent with the POST request\n",
    "# (if there are additional ones, define them as well)\n",
    "user = \"Your username goes here\"\n",
    "password = \"Your password goes here\""
   ]
  },
  {
   "cell_type": "code",
   "execution_count": 4,
   "metadata": {},
   "outputs": [],
   "source": [
    "# Arrange all parameters in a dictionary format with the right names\n",
    "payload = {\n",
    "    \"user[email]\": user,\n",
    "    \"user[password]\": password\n",
    "}"
   ]
  },
  {
   "cell_type": "code",
   "execution_count": 5,
   "metadata": {},
   "outputs": [],
   "source": [
    "# Create a session so that we have consistent cookies\n",
    "s = requests.Session()"
   ]
  },
  {
   "cell_type": "code",
   "execution_count": 6,
   "metadata": {},
   "outputs": [
    {
     "data": {
      "text/plain": [
       "200"
      ]
     },
     "execution_count": 6,
     "metadata": {},
     "output_type": "execute_result"
    }
   ],
   "source": [
    "# Submit the POST request through the session\n",
    "p = s.post(url, data = payload)\n",
    "p.status_code"
   ]
  },
  {
   "cell_type": "code",
   "execution_count": 7,
   "metadata": {},
   "outputs": [],
   "source": [
    "# You are now logged in and can proceed with scraping the data\n",
    "# .\n",
    "# .\n",
    "# .\n",
    "\n",
    "# Don't forget to close the session when you are done\n",
    "s.close()"
   ]
  }
 ],
 "metadata": {
  "kernelspec": {
   "display_name": "Python 3",
   "language": "python",
   "name": "python3"
  },
  "language_info": {
   "codemirror_mode": {
    "name": "ipython",
    "version": 3
   },
   "file_extension": ".py",
   "mimetype": "text/x-python",
   "name": "python",
   "nbconvert_exporter": "python",
   "pygments_lexer": "ipython3",
   "version": "3.8.3"
  }
 },
 "nbformat": 4,
 "nbformat_minor": 2
}
