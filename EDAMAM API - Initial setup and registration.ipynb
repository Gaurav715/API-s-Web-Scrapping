{
 "cells": [
  {
   "cell_type": "markdown",
   "metadata": {},
   "source": [
    "# API requiring registration - POST request"
   ]
  },
  {
   "cell_type": "markdown",
   "metadata": {},
   "source": [
    "### Registering to the API"
   ]
  },
  {
   "cell_type": "code",
   "execution_count": 1,
   "metadata": {
    "ExecuteTime": {
     "end_time": "2020-08-13T15:09:52.761528Z",
     "start_time": "2020-08-13T15:09:52.757360Z"
    }
   },
   "outputs": [],
   "source": [
    "# We will use a nutritional analysis API\n",
    "# It requires registration (we need an API key to validate ourselves)\n",
    "# Many APIs require this kind of registration"
   ]
  },
  {
   "cell_type": "code",
   "execution_count": 2,
   "metadata": {
    "ExecuteTime": {
     "end_time": "2020-08-13T15:09:53.063616Z",
     "start_time": "2020-08-13T15:09:53.059625Z"
    }
   },
   "outputs": [],
   "source": [
    "# You can sign-up for the Developer (Free) edition here: \n",
    "#        https://developer.edamam.com/edamam-nutrition-api\n",
    "\n",
    "# API documentation: \n",
    "#        https://developer.edamam.com/edamam-docs-nutrition-api"
   ]
  },
  {
   "cell_type": "markdown",
   "metadata": {},
   "source": [
    "### Initial Setup"
   ]
  },
  {
   "cell_type": "code",
   "execution_count": 3,
   "metadata": {
    "ExecuteTime": {
     "end_time": "2020-08-13T15:09:53.951371Z",
     "start_time": "2020-08-13T15:09:53.766820Z"
    }
   },
   "outputs": [],
   "source": [
    "# loading the packages\n",
    "import requests\n",
    "import json"
   ]
  },
  {
   "cell_type": "code",
   "execution_count": 4,
   "metadata": {
    "ExecuteTime": {
     "end_time": "2020-08-13T15:09:54.221509Z",
     "start_time": "2020-08-13T15:09:54.216522Z"
    }
   },
   "outputs": [],
   "source": [
    "# Store the ID and Key in variables\n",
    "\n",
    "APP_ID = \"21ebd150\" #enter you own app id\n",
    "APP_KEY = \"e1ebd230c33779334555fb54aa6905f9\" #enter your own key\n",
    "\n",
    "# Note: Those are not real ID and Key,\n",
    "# Replace the string with your own ones that you recieved upon registration"
   ]
  },
  {
   "cell_type": "code",
   "execution_count": 5,
   "metadata": {
    "ExecuteTime": {
     "end_time": "2020-08-13T15:09:55.297631Z",
     "start_time": "2020-08-13T15:09:55.292648Z"
    }
   },
   "outputs": [],
   "source": [
    "# Setting up the request URL\n",
    "api_endpoint = \"https://api.edamam.com/api/nutrition-details\"\n",
    "\n",
    "url = api_endpoint + \"?app_id=\" + APP_ID + \"&app_key=\" + APP_KEY"
   ]
  },
  {
   "cell_type": "code",
   "execution_count": null,
   "metadata": {},
   "outputs": [],
   "source": []
  }
 ],
 "metadata": {
  "kernelspec": {
   "display_name": "Python 3",
   "language": "python",
   "name": "python3"
  },
  "language_info": {
   "codemirror_mode": {
    "name": "ipython",
    "version": 3
   },
   "file_extension": ".py",
   "mimetype": "text/x-python",
   "name": "python",
   "nbconvert_exporter": "python",
   "pygments_lexer": "ipython3",
   "version": "3.8.3"
  }
 },
 "nbformat": 4,
 "nbformat_minor": 2
}
