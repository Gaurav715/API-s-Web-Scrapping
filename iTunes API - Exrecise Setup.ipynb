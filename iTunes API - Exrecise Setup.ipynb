{
 "cells": [
  {
   "cell_type": "code",
   "execution_count": 1,
   "metadata": {
    "ExecuteTime": {
     "end_time": "2020-08-13T14:45:15.609700Z",
     "start_time": "2020-08-13T14:45:15.413190Z"
    }
   },
   "outputs": [],
   "source": [
    "# Import the relevant modules\n",
    "import requests\n",
    "import json"
   ]
  },
  {
   "cell_type": "code",
   "execution_count": 2,
   "metadata": {
    "ExecuteTime": {
     "end_time": "2020-08-13T14:45:16.256970Z",
     "start_time": "2020-08-13T14:45:16.254972Z"
    }
   },
   "outputs": [],
   "source": [
    "# The documentation for this particular API can be found here:\n",
    "# https://affiliate.itunes.apple.com/resources/documentation/itunes-store-web-service-search-api/"
   ]
  },
  {
   "cell_type": "code",
   "execution_count": 3,
   "metadata": {
    "ExecuteTime": {
     "end_time": "2020-08-13T14:45:16.840024Z",
     "start_time": "2020-08-13T14:45:16.836034Z"
    }
   },
   "outputs": [],
   "source": [
    "# define base URL\n",
    "base_site = \"https://itunes.apple.com/search\""
   ]
  },
  {
   "cell_type": "code",
   "execution_count": 4,
   "metadata": {
    "ExecuteTime": {
     "end_time": "2020-08-13T14:45:17.542689Z",
     "start_time": "2020-08-13T14:45:17.364620Z"
    }
   },
   "outputs": [
    {
     "data": {
      "text/plain": [
       "200"
      ]
     },
     "execution_count": 4,
     "metadata": {},
     "output_type": "execute_result"
    }
   ],
   "source": [
    "# Make a request\n",
    "r = requests.get(base_site, params = {\"term\": \"the beatles\", \"country\": \"us\", \"limit\": 200})\n",
    "r.status_code"
   ]
  },
  {
   "cell_type": "code",
   "execution_count": 5,
   "metadata": {
    "ExecuteTime": {
     "end_time": "2020-08-13T14:45:17.918554Z",
     "start_time": "2020-08-13T14:45:17.909578Z"
    }
   },
   "outputs": [],
   "source": [
    "# Store the response\n",
    "info = r.json()"
   ]
  },
  {
   "cell_type": "markdown",
   "metadata": {},
   "source": [
    "### Inspect the structure of the response"
   ]
  },
  {
   "cell_type": "code",
   "execution_count": 6,
   "metadata": {
    "ExecuteTime": {
     "end_time": "2020-08-13T14:45:58.205734Z",
     "start_time": "2020-08-13T14:45:58.198750Z"
    }
   },
   "outputs": [
    {
     "name": "stdout",
     "output_type": "stream",
     "text": [
      "{\n",
      "    \"wrapperType\": \"track\",\n",
      "    \"kind\": \"song\",\n",
      "    \"artistId\": 136975,\n",
      "    \"collectionId\": 1474815798,\n",
      "    \"trackId\": 1474815898,\n",
      "    \"artistName\": \"The Beatles\",\n",
      "    \"collectionName\": \"Abbey Road (2019 Mix)\",\n",
      "    \"trackName\": \"Here Comes the Sun\",\n",
      "    \"collectionCensoredName\": \"Abbey Road (2019 Mix)\",\n",
      "    \"trackCensoredName\": \"Here Comes the Sun (2019 Mix)\",\n",
      "    \"artistViewUrl\": \"https://music.apple.com/us/artist/the-beatles/136975?uo=4\",\n",
      "    \"collectionViewUrl\": \"https://music.apple.com/us/album/here-comes-the-sun-2019-mix/1474815798?i=1474815898&uo=4\",\n",
      "    \"trackViewUrl\": \"https://music.apple.com/us/album/here-comes-the-sun-2019-mix/1474815798?i=1474815898&uo=4\",\n",
      "    \"previewUrl\": \"https://audio-ssl.itunes.apple.com/itunes-assets/AudioPreview123/v4/a4/d6/36/a4d6368e-731a-b2dc-d1a2-786e7886fbc1/mzaf_10527553788341453800.plus.aac.p.m4a\",\n",
      "    \"artworkUrl30\": \"https://is2-ssl.mzstatic.com/image/thumb/Music123/v4/6e/db/f5/6edbf5a8-b990-8f89-af12-8cc464f03da1/source/30x30bb.jpg\",\n",
      "    \"artworkUrl60\": \"https://is2-ssl.mzstatic.com/image/thumb/Music123/v4/6e/db/f5/6edbf5a8-b990-8f89-af12-8cc464f03da1/source/60x60bb.jpg\",\n",
      "    \"artworkUrl100\": \"https://is2-ssl.mzstatic.com/image/thumb/Music123/v4/6e/db/f5/6edbf5a8-b990-8f89-af12-8cc464f03da1/source/100x100bb.jpg\",\n",
      "    \"collectionPrice\": 9.99,\n",
      "    \"trackPrice\": 1.29,\n",
      "    \"releaseDate\": \"1969-09-26T12:00:00Z\",\n",
      "    \"collectionExplicitness\": \"notExplicit\",\n",
      "    \"trackExplicitness\": \"notExplicit\",\n",
      "    \"discCount\": 1,\n",
      "    \"discNumber\": 1,\n",
      "    \"trackCount\": 17,\n",
      "    \"trackNumber\": 7,\n",
      "    \"trackTimeMillis\": 185707,\n",
      "    \"country\": \"USA\",\n",
      "    \"currency\": \"USD\",\n",
      "    \"primaryGenreName\": \"Rock\",\n",
      "    \"isStreamable\": false\n",
      "}\n"
     ]
    }
   ],
   "source": [
    "print(json.dumps(info['results'][0], indent=4))"
   ]
  },
  {
   "cell_type": "code",
   "execution_count": null,
   "metadata": {},
   "outputs": [],
   "source": []
  },
  {
   "cell_type": "markdown",
   "metadata": {},
   "source": [
    "### Locate the name and release date of a song"
   ]
  },
  {
   "cell_type": "code",
   "execution_count": 7,
   "metadata": {
    "ExecuteTime": {
     "end_time": "2020-08-13T14:46:08.284506Z",
     "start_time": "2020-08-13T14:46:08.278522Z"
    }
   },
   "outputs": [
    {
     "data": {
      "text/plain": [
       "'Here Comes the Sun'"
      ]
     },
     "execution_count": 7,
     "metadata": {},
     "output_type": "execute_result"
    }
   ],
   "source": [
    "info['results'][0]['trackName']"
   ]
  },
  {
   "cell_type": "code",
   "execution_count": 9,
   "metadata": {
    "ExecuteTime": {
     "end_time": "2020-08-13T14:46:26.701679Z",
     "start_time": "2020-08-13T14:46:26.695695Z"
    }
   },
   "outputs": [
    {
     "data": {
      "text/plain": [
       "'1969-09-26T12:00:00Z'"
      ]
     },
     "execution_count": 9,
     "metadata": {},
     "output_type": "execute_result"
    }
   ],
   "source": [
    "# Find where the release date is located\n",
    "info['results'][0]['releaseDate']"
   ]
  },
  {
   "cell_type": "code",
   "execution_count": 8,
   "metadata": {
    "ExecuteTime": {
     "end_time": "2020-08-13T14:46:12.869050Z",
     "start_time": "2020-08-13T14:46:12.863066Z"
    }
   },
   "outputs": [
    {
     "data": {
      "text/plain": [
       "'Come Together'"
      ]
     },
     "execution_count": 8,
     "metadata": {},
     "output_type": "execute_result"
    }
   ],
   "source": [
    "info['results'][1]['trackName']"
   ]
  },
  {
   "cell_type": "code",
   "execution_count": 10,
   "metadata": {
    "ExecuteTime": {
     "end_time": "2020-08-13T14:46:34.728012Z",
     "start_time": "2020-08-13T14:46:34.722025Z"
    }
   },
   "outputs": [
    {
     "data": {
      "text/plain": [
       "'1969-09-26T12:00:00Z'"
      ]
     },
     "execution_count": 10,
     "metadata": {},
     "output_type": "execute_result"
    }
   ],
   "source": [
    "# Find where the release date is located\n",
    "info['results'][1]['releaseDate']"
   ]
  },
  {
   "cell_type": "markdown",
   "metadata": {},
   "source": [
    "### Print the name of all songs"
   ]
  },
  {
   "cell_type": "code",
   "execution_count": 11,
   "metadata": {
    "ExecuteTime": {
     "end_time": "2020-08-13T14:46:46.277509Z",
     "start_time": "2020-08-13T14:46:45.920463Z"
    }
   },
   "outputs": [
    {
     "name": "stdout",
     "output_type": "stream",
     "text": [
      "Here Comes the Sun\n",
      "Come Together\n",
      "All You Need Is Love\n",
      "Hey Jude\n",
      "Hey Jude\n",
      "Let It Be\n",
      "Get Back\n",
      "Blackbird\n",
      "In My Life\n",
      "Yesterday\n",
      "I Want to Hold Your Hand\n",
      "Eleanor Rigby\n",
      "Help!\n",
      "Yellow Submarine\n",
      "Can't Buy Me Love\n",
      "Let It Be\n",
      "A Hard Day's Night\n",
      "A Day In the Life\n",
      "Hello, Goodbye\n",
      "Penny Lane\n",
      "Something\n",
      "Day Tripper\n",
      "Love Me Do\n",
      "Paperback Writer\n",
      "The Long and Winding Road\n",
      "Eight Days a Week\n",
      "She Loves You\n",
      "We Can Work It Out\n",
      "The Ballad of John and Yoko\n",
      "Lady Madonna\n",
      "From Me to You\n",
      "I Feel Fine\n",
      "While My Guitar Gently Weeps\n",
      "Come Together\n",
      "She Came in Through the Bathroom Window\n",
      "Ticket to Ride\n",
      "Something\n",
      "Ob-La-Di, Ob-La-Da\n",
      "Revolution\n",
      "With a Little Help From My Friends\n",
      "Oh! Darling\n",
      "Lucy In the Sky with Diamonds\n",
      "Birthday\n",
      "Golden Slumbers\n",
      "Octopus's Garden\n",
      "I Want You (She's So Heavy)\n",
      "Maxwell's Silver Hammer\n",
      "Because\n",
      "When I'm Sixty-Four\n",
      "The End\n",
      "You Never Give Me Your Money\n",
      "Sgt. Pepper's Lonely Hearts Club Band\n",
      "Being For the Benefit of Mr. Kite!\n",
      "Rocky Raccoon\n",
      "Mean Mr Mustard\n",
      "Back In the U.S.S.R.\n",
      "Polythene Pam\n",
      "Carry That Weight\n",
      "Mother Nature's Son\n",
      "Dear Prudence\n",
      "Strawberry Fields Forever\n",
      "Helter Skelter\n",
      "Sun King\n",
      "Everybody's Got Something to Hide Except Me and My Monkey\n",
      "Get Back\n",
      "Don't Let Me Down\n",
      "I Will\n",
      "Her Majesty\n",
      "I Am the Walrus\n",
      "Eleanor Rigby\n",
      "Happiness Is a Warm Gun\n",
      "Twist and Shout\n",
      "She's Leaving Home\n",
      "Back In the U.S.S.R.\n",
      "Getting Better\n",
      "Julia\n",
      "Lovely Rita\n",
      "Octopus's Garden\n",
      "Sgt. Pepper's Lonely Hearts Club Band\n",
      "The Beatles\n",
      "Rubber Soul\n",
      "Revolver\n",
      "Magical Mystery Tour\n",
      "Let It Be\n",
      "Help!\n",
      "A Hard Day's Night\n",
      "Concert for George\n",
      "With The Beatles\n",
      "Please Please Me\n",
      "Help!\n",
      "Beatles For Sale\n",
      "Yellow Submarine\n",
      "The Beatles: Eight Days a Week - The Touring Years\n",
      "Abbey Road (Documentary)\n",
      "Magical Mystery Tour\n"
     ]
    },
    {
     "ename": "KeyError",
     "evalue": "'trackName'",
     "output_type": "error",
     "traceback": [
      "\u001b[1;31m---------------------------------------------------------------------------\u001b[0m",
      "\u001b[1;31mKeyError\u001b[0m                                  Traceback (most recent call last)",
      "\u001b[1;32m<ipython-input-11-8807447effcc>\u001b[0m in \u001b[0;36m<module>\u001b[1;34m\u001b[0m\n\u001b[0;32m      1\u001b[0m \u001b[1;31m# Cycle through all results and print their track name\u001b[0m\u001b[1;33m\u001b[0m\u001b[1;33m\u001b[0m\u001b[1;33m\u001b[0m\u001b[0m\n\u001b[0;32m      2\u001b[0m \u001b[1;32mfor\u001b[0m \u001b[0mresult\u001b[0m \u001b[1;32min\u001b[0m \u001b[0minfo\u001b[0m\u001b[1;33m[\u001b[0m\u001b[1;34m'results'\u001b[0m\u001b[1;33m]\u001b[0m\u001b[1;33m:\u001b[0m\u001b[1;33m\u001b[0m\u001b[1;33m\u001b[0m\u001b[0m\n\u001b[1;32m----> 3\u001b[1;33m     \u001b[0mprint\u001b[0m\u001b[1;33m(\u001b[0m\u001b[0mresult\u001b[0m\u001b[1;33m[\u001b[0m\u001b[1;34m'trackName'\u001b[0m\u001b[1;33m]\u001b[0m\u001b[1;33m)\u001b[0m\u001b[1;33m\u001b[0m\u001b[1;33m\u001b[0m\u001b[0m\n\u001b[0m",
      "\u001b[1;31mKeyError\u001b[0m: 'trackName'"
     ]
    }
   ],
   "source": [
    "# Cycle through all results and print their track name\n",
    "for result in info['results']:\n",
    "    print(result['trackName'])"
   ]
  },
  {
   "cell_type": "markdown",
   "metadata": {},
   "source": [
    "### Print out the release date of all songs"
   ]
  },
  {
   "cell_type": "code",
   "execution_count": 12,
   "metadata": {
    "ExecuteTime": {
     "end_time": "2020-08-13T14:47:03.055638Z",
     "start_time": "2020-08-13T14:47:03.043673Z"
    }
   },
   "outputs": [
    {
     "name": "stdout",
     "output_type": "stream",
     "text": [
      "1969-09-26T12:00:00Z\n",
      "1969-09-26T12:00:00Z\n",
      "1967-07-07T12:00:00Z\n",
      "1968-08-26T12:00:00Z\n",
      "1968-08-26T12:00:00Z\n",
      "1970-03-06T12:00:00Z\n",
      "1969-04-11T12:00:00Z\n",
      "1968-11-22T12:00:00Z\n",
      "1965-12-03T12:00:00Z\n",
      "1965-09-13T12:00:00Z\n",
      "1963-11-29T12:00:00Z\n",
      "1966-08-05T12:00:00Z\n",
      "1965-07-19T12:00:00Z\n",
      "1966-08-05T12:00:00Z\n",
      "1964-03-16T12:00:00Z\n",
      "1970-03-06T12:00:00Z\n",
      "1964-07-10T12:00:00Z\n",
      "1967-06-01T12:00:00Z\n",
      "1967-11-24T12:00:00Z\n",
      "1967-02-13T12:00:00Z\n",
      "1969-10-06T12:00:00Z\n",
      "1965-12-03T12:00:00Z\n",
      "1962-10-05T12:00:00Z\n",
      "1966-05-30T12:00:00Z\n",
      "1970-05-11T12:00:00Z\n",
      "1964-12-04T12:00:00Z\n",
      "1963-08-23T12:00:00Z\n",
      "1965-12-03T12:00:00Z\n",
      "1969-05-30T12:00:00Z\n",
      "1968-03-15T12:00:00Z\n",
      "1963-04-11T12:00:00Z\n",
      "1964-11-24T12:00:00Z\n",
      "1968-11-22T12:00:00Z\n",
      "1969-10-06T12:00:00Z\n",
      "1969-09-26T12:00:00Z\n",
      "1965-04-09T12:00:00Z\n",
      "1969-09-26T12:00:00Z\n",
      "1968-11-22T12:00:00Z\n",
      "1968-08-26T12:00:00Z\n",
      "1967-06-01T12:00:00Z\n",
      "1969-09-26T12:00:00Z\n",
      "1967-06-01T12:00:00Z\n",
      "1968-11-22T12:00:00Z\n",
      "1969-09-26T12:00:00Z\n",
      "1969-09-26T12:00:00Z\n",
      "1969-09-26T12:00:00Z\n",
      "1969-09-26T12:00:00Z\n",
      "1969-09-26T12:00:00Z\n",
      "1967-06-01T12:00:00Z\n",
      "1969-09-26T12:00:00Z\n",
      "1969-09-26T12:00:00Z\n",
      "1967-06-01T12:00:00Z\n",
      "1967-06-01T12:00:00Z\n",
      "1968-11-22T12:00:00Z\n",
      "1969-09-26T12:00:00Z\n",
      "1968-11-22T12:00:00Z\n",
      "1969-09-26T12:00:00Z\n",
      "1969-09-26T12:00:00Z\n",
      "1968-11-22T12:00:00Z\n",
      "1968-11-22T12:00:00Z\n",
      "1967-02-13T12:00:00Z\n",
      "1968-11-22T12:00:00Z\n",
      "1969-09-26T12:00:00Z\n",
      "1968-11-22T12:00:00Z\n",
      "1969-04-11T12:00:00Z\n",
      "1969-04-11T12:00:00Z\n",
      "1968-11-22T12:00:00Z\n",
      "1969-09-26T12:00:00Z\n",
      "1967-11-24T12:00:00Z\n",
      "1966-08-05T12:00:00Z\n",
      "1968-11-22T12:00:00Z\n",
      "1963-03-22T12:00:00Z\n",
      "1967-06-01T12:00:00Z\n",
      "1968-11-22T12:00:00Z\n",
      "1967-06-01T12:00:00Z\n",
      "1968-11-22T12:00:00Z\n",
      "1967-06-01T12:00:00Z\n",
      "1969-09-26T12:00:00Z\n",
      "2019-05-22T07:00:00Z\n",
      "2019-05-22T07:00:00Z\n",
      "2019-05-22T07:00:00Z\n",
      "2019-05-22T07:00:00Z\n",
      "2019-05-22T07:00:00Z\n",
      "2019-05-22T07:00:00Z\n",
      "2019-05-22T07:00:00Z\n",
      "2019-02-13T08:00:00Z\n",
      "2011-03-22T07:00:00Z\n",
      "2019-05-22T07:00:00Z\n",
      "2019-05-22T07:00:00Z\n",
      "1965-07-29T07:00:00Z\n",
      "2019-05-22T07:00:00Z\n",
      "2019-05-22T07:00:00Z\n",
      "2016-11-17T08:00:00Z\n",
      "2019-05-22T07:00:00Z\n",
      "1988-01-01T08:00:00Z\n",
      "2005-11-01T08:00:00Z\n",
      "2011-01-01T08:00:00Z\n",
      "2010-03-18T07:00:00Z\n",
      "2008-10-20T07:00:00Z\n",
      "2016-04-05T00:00:00Z\n",
      "2019-05-22T07:00:00Z\n",
      "2019-05-22T07:00:00Z\n",
      "2019-05-22T07:00:00Z\n",
      "2019-05-22T07:00:00Z\n",
      "2019-05-22T07:00:00Z\n",
      "2019-05-22T07:00:00Z\n",
      "2019-05-22T07:00:00Z\n",
      "2019-05-22T07:00:00Z\n",
      "2019-05-22T07:00:00Z\n",
      "2019-05-22T07:00:00Z\n",
      "2019-05-22T07:00:00Z\n",
      "2019-05-22T07:00:00Z\n",
      "2019-05-22T07:00:00Z\n",
      "2019-05-22T07:00:00Z\n",
      "2018-06-21T07:00:00Z\n",
      "2016-04-07T07:00:00Z\n",
      "2016-01-01T08:00:00Z\n",
      "2015-11-06T08:00:00Z\n",
      "2018-10-30T07:00:00Z\n",
      "2016-04-08T07:00:00Z\n",
      "2018-06-21T07:00:00Z\n",
      "1965-12-03T08:00:00Z\n",
      "2018-06-22T07:00:00Z\n",
      "2015-12-14T08:00:00Z\n",
      "1964-05-06T07:00:00Z\n",
      "2018-06-21T07:00:00Z\n",
      "2007-09-27T07:00:00Z\n",
      "2015-12-07T08:00:00Z\n",
      "2015-10-27T07:00:00Z\n",
      "1968-03-15T08:00:00Z\n",
      "1969-10-27T08:00:00Z\n",
      "1966-05-20T07:00:00Z\n",
      "2016-06-29T07:00:00Z\n",
      "2009-04-06T07:00:00Z\n",
      "2017-09-28T07:00:00Z\n",
      "2007-12-12T08:00:00Z\n",
      "2019-10-29T07:00:00Z\n",
      "2011-07-19T07:00:00Z\n",
      "2013-10-29T07:00:00Z\n",
      "2005-07-20T07:00:00Z\n",
      "2020-08-03T20:27:00Z\n",
      "2010-07-27T07:00:00Z\n",
      "2020-04-15T15:29:00Z\n",
      "2018-11-16T08:00:00Z\n",
      "2010-10-28T07:00:00Z\n",
      "2007-12-12T08:00:00Z\n",
      "2008-07-03T07:00:00Z\n",
      "2019-08-03T07:00:00Z\n",
      "2020-08-10T18:39:00Z\n",
      "2020-07-31T13:20:00Z\n",
      "2020-01-14T08:00:00Z\n",
      "2020-06-07T06:45:00Z\n",
      "2020-08-10T11:33:00Z\n",
      "2007-12-12T08:00:00Z\n",
      "2020-04-13T06:19:00Z\n",
      "2020-08-11T23:01:00Z\n",
      "2008-01-01T08:00:00Z\n",
      "2019-11-19T08:00:00Z\n",
      "2017-09-08T07:00:00Z\n",
      "2020-08-10T01:19:00Z\n",
      "2014-11-03T08:00:00Z\n",
      "2020-05-08T07:00:00Z\n",
      "2018-03-06T08:00:00Z\n",
      "2018-10-16T07:00:00Z\n",
      "2020-08-13T04:48:00Z\n",
      "2015-12-01T08:00:00Z\n",
      "2017-04-25T07:00:00Z\n",
      "2020-03-24T07:00:00Z\n",
      "2015-06-30T07:00:00Z\n",
      "2018-12-12T02:23:00Z\n",
      "2020-08-10T04:00:00Z\n",
      "2020-07-14T23:51:00Z\n",
      "2019-06-25T07:00:00Z\n",
      "2020-06-11T18:50:00Z\n",
      "2017-10-21T16:14:00Z\n",
      "2010-11-24T08:00:00Z\n",
      "2009-11-16T08:00:00Z\n",
      "2019-10-15T07:00:00Z\n",
      "2007-07-27T15:15:00Z\n",
      "2015-09-21T07:00:00Z\n",
      "2017-09-01T07:00:00Z\n",
      "2018-02-13T08:00:00Z\n",
      "2018-04-17T07:00:00Z\n",
      "2016-08-29T07:00:00Z\n",
      "2020-07-07T07:00:00Z\n",
      "2014-03-11T07:00:00Z\n",
      "2020-03-07T04:15:00Z\n",
      "2016-03-15T07:00:00Z\n",
      "2016-09-27T07:00:00Z\n",
      "2019-05-19T07:00:00Z\n",
      "1999-03-16T08:00:00Z\n",
      "2020-08-11T22:30:00Z\n",
      "2020-08-11T06:00:00Z\n",
      "2012-08-23T07:00:00Z\n",
      "2014-03-01T08:00:00Z\n",
      "2018-12-11T08:00:00Z\n",
      "2019-10-10T07:00:00Z\n",
      "2019-08-07T07:00:00Z\n",
      "2011-01-01T08:00:00Z\n",
      "2017-03-21T07:00:00Z\n"
     ]
    }
   ],
   "source": [
    "# Cycle through all results and print their release date\n",
    "for result in info['results']:\n",
    "    print(result['releaseDate'])"
   ]
  },
  {
   "cell_type": "code",
   "execution_count": null,
   "metadata": {},
   "outputs": [],
   "source": []
  }
 ],
 "metadata": {
  "kernelspec": {
   "display_name": "Python 3",
   "language": "python",
   "name": "python3"
  },
  "language_info": {
   "codemirror_mode": {
    "name": "ipython",
    "version": 3
   },
   "file_extension": ".py",
   "mimetype": "text/x-python",
   "name": "python",
   "nbconvert_exporter": "python",
   "pygments_lexer": "ipython3",
   "version": "3.8.3"
  }
 },
 "nbformat": 4,
 "nbformat_minor": 2
}
